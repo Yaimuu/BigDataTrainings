{
  "nbformat": 4,
  "nbformat_minor": 0,
  "metadata": {
    "colab": {
      "provenance": []
    },
    "kernelspec": {
      "name": "python3",
      "display_name": "Python 3"
    },
    "language_info": {
      "name": "python"
    }
  },
  "cells": [
    {
      "cell_type": "markdown",
      "source": [
        "# TP2 - Big Data"
      ],
      "metadata": {
        "id": "zo7saiZm88b2"
      }
    },
    {
      "cell_type": "code",
      "execution_count": 1,
      "metadata": {
        "id": "ukpKwS2O8g6C"
      },
      "outputs": [],
      "source": [
        "import numpy as np\n",
        "np.set_printoptions(threshold=10000,suppress=True)\n",
        "from IPython.display import display\n",
        "import time\n",
        "import pandas as pd\n",
        "import warnings\n",
        "import math as math\n",
        "import matplotlib\n",
        "import matplotlib.pyplot as plt\n",
        "from sklearn.model_selection import train_test_split\n",
        "from scipy.spatial.distance import pdist, squareform\n",
        "warnings.filterwarnings('ignore')"
      ]
    },
    {
      "cell_type": "code",
      "source": [
        "dataframe = pd.read_csv(\"Wave.txt\", sep=\"\\s\", header=None)\n",
        "display(dataframe)\n",
        "X = dataframe.iloc[:, :40]\n",
        "print(X)\n",
        "y = dataframe.iloc[:, 40:41]\n",
        "print(y)"
      ],
      "metadata": {
        "colab": {
          "base_uri": "https://localhost:8080/",
          "height": 1000
        },
        "id": "mCna-Yw-9WNG",
        "outputId": "df0b0d76-ae1e-4120-eda6-618867e7261a"
      },
      "execution_count": 2,
      "outputs": [
        {
          "output_type": "display_data",
          "data": {
            "text/plain": [
              "        0     1     2     3     4     5     6     7     8     9   ...    31  \\\n",
              "0    -0.23 -1.21  1.20  1.23 -0.10  0.12  2.49  1.19  1.34  0.58  ... -0.86   \n",
              "1     0.38  0.38 -0.31 -0.09  1.52  1.35  1.49  3.81  2.33  1.34  ...  1.28   \n",
              "2    -0.69  1.00  1.08  1.48  2.44  3.39  3.09  4.08  5.48  3.61  ...  0.29   \n",
              "3     0.40  0.68  0.27  1.39  1.03 -0.32 -1.23 -0.50  0.11  0.87  ...  0.43   \n",
              "4    -0.81  1.59 -0.69  1.16  4.22  4.98  4.52  2.54  5.60  4.66  ...  0.62   \n",
              "...    ...   ...   ...   ...   ...   ...   ...   ...   ...   ...  ...   ...   \n",
              "4995  0.44  0.56  1.84  1.94  3.43  4.88  4.04  2.11  1.83  0.78  ... -2.56   \n",
              "4996  1.18 -0.48  1.81  1.51  1.41  3.61  3.75  3.80  3.44  3.71  ...  0.37   \n",
              "4997  0.64  0.81 -0.38 -0.88  1.55  0.10  0.42 -0.93 -0.70  1.54  ...  1.61   \n",
              "4998  0.18  1.65  1.91  2.07  4.28  3.61  4.46  4.62  4.80  0.25  ... -0.65   \n",
              "4999  2.05 -1.99  1.66  2.18  2.22  2.53  3.09  2.20  1.42  0.62  ...  0.28   \n",
              "\n",
              "        32    33    34    35    36    37    38    39  40  \n",
              "0    -0.70  0.51  0.34 -0.13 -0.87  0.56 -0.53  0.29   2  \n",
              "1     1.40  0.00 -0.18  0.71  0.04  0.91 -0.79  0.22   0  \n",
              "2     1.12  0.60  0.28  2.17  0.18 -0.09 -1.33  1.00   1  \n",
              "3    -0.30 -0.07 -0.99 -0.75  1.11  1.35 -1.63  0.10   0  \n",
              "4     0.14  1.33 -1.87  1.48 -0.02 -0.58  0.93  0.40   1  \n",
              "...    ...   ...   ...   ...   ...   ...   ...   ...  ..  \n",
              "4995 -0.68  0.97 -0.78 -1.14  0.45  0.18  1.44  1.11   0  \n",
              "4996 -1.96 -1.19 -1.08  1.37 -1.02  0.71 -0.10  0.36   1  \n",
              "4997 -0.81 -1.35 -0.84 -0.64  1.19 -0.38 -0.70 -0.85   2  \n",
              "4998 -0.73  0.89 -0.97 -1.30 -0.20 -0.63 -0.92  0.63   0  \n",
              "4999 -0.77  1.39  0.51  0.24 -1.13  1.01  0.06  0.61   0  \n",
              "\n",
              "[5000 rows x 41 columns]"
            ],
            "text/html": [
              "\n",
              "  <div id=\"df-2e92bcc7-4365-4923-a757-f053df48bc7d\">\n",
              "    <div class=\"colab-df-container\">\n",
              "      <div>\n",
              "<style scoped>\n",
              "    .dataframe tbody tr th:only-of-type {\n",
              "        vertical-align: middle;\n",
              "    }\n",
              "\n",
              "    .dataframe tbody tr th {\n",
              "        vertical-align: top;\n",
              "    }\n",
              "\n",
              "    .dataframe thead th {\n",
              "        text-align: right;\n",
              "    }\n",
              "</style>\n",
              "<table border=\"1\" class=\"dataframe\">\n",
              "  <thead>\n",
              "    <tr style=\"text-align: right;\">\n",
              "      <th></th>\n",
              "      <th>0</th>\n",
              "      <th>1</th>\n",
              "      <th>2</th>\n",
              "      <th>3</th>\n",
              "      <th>4</th>\n",
              "      <th>5</th>\n",
              "      <th>6</th>\n",
              "      <th>7</th>\n",
              "      <th>8</th>\n",
              "      <th>9</th>\n",
              "      <th>...</th>\n",
              "      <th>31</th>\n",
              "      <th>32</th>\n",
              "      <th>33</th>\n",
              "      <th>34</th>\n",
              "      <th>35</th>\n",
              "      <th>36</th>\n",
              "      <th>37</th>\n",
              "      <th>38</th>\n",
              "      <th>39</th>\n",
              "      <th>40</th>\n",
              "    </tr>\n",
              "  </thead>\n",
              "  <tbody>\n",
              "    <tr>\n",
              "      <th>0</th>\n",
              "      <td>-0.23</td>\n",
              "      <td>-1.21</td>\n",
              "      <td>1.20</td>\n",
              "      <td>1.23</td>\n",
              "      <td>-0.10</td>\n",
              "      <td>0.12</td>\n",
              "      <td>2.49</td>\n",
              "      <td>1.19</td>\n",
              "      <td>1.34</td>\n",
              "      <td>0.58</td>\n",
              "      <td>...</td>\n",
              "      <td>-0.86</td>\n",
              "      <td>-0.70</td>\n",
              "      <td>0.51</td>\n",
              "      <td>0.34</td>\n",
              "      <td>-0.13</td>\n",
              "      <td>-0.87</td>\n",
              "      <td>0.56</td>\n",
              "      <td>-0.53</td>\n",
              "      <td>0.29</td>\n",
              "      <td>2</td>\n",
              "    </tr>\n",
              "    <tr>\n",
              "      <th>1</th>\n",
              "      <td>0.38</td>\n",
              "      <td>0.38</td>\n",
              "      <td>-0.31</td>\n",
              "      <td>-0.09</td>\n",
              "      <td>1.52</td>\n",
              "      <td>1.35</td>\n",
              "      <td>1.49</td>\n",
              "      <td>3.81</td>\n",
              "      <td>2.33</td>\n",
              "      <td>1.34</td>\n",
              "      <td>...</td>\n",
              "      <td>1.28</td>\n",
              "      <td>1.40</td>\n",
              "      <td>0.00</td>\n",
              "      <td>-0.18</td>\n",
              "      <td>0.71</td>\n",
              "      <td>0.04</td>\n",
              "      <td>0.91</td>\n",
              "      <td>-0.79</td>\n",
              "      <td>0.22</td>\n",
              "      <td>0</td>\n",
              "    </tr>\n",
              "    <tr>\n",
              "      <th>2</th>\n",
              "      <td>-0.69</td>\n",
              "      <td>1.00</td>\n",
              "      <td>1.08</td>\n",
              "      <td>1.48</td>\n",
              "      <td>2.44</td>\n",
              "      <td>3.39</td>\n",
              "      <td>3.09</td>\n",
              "      <td>4.08</td>\n",
              "      <td>5.48</td>\n",
              "      <td>3.61</td>\n",
              "      <td>...</td>\n",
              "      <td>0.29</td>\n",
              "      <td>1.12</td>\n",
              "      <td>0.60</td>\n",
              "      <td>0.28</td>\n",
              "      <td>2.17</td>\n",
              "      <td>0.18</td>\n",
              "      <td>-0.09</td>\n",
              "      <td>-1.33</td>\n",
              "      <td>1.00</td>\n",
              "      <td>1</td>\n",
              "    </tr>\n",
              "    <tr>\n",
              "      <th>3</th>\n",
              "      <td>0.40</td>\n",
              "      <td>0.68</td>\n",
              "      <td>0.27</td>\n",
              "      <td>1.39</td>\n",
              "      <td>1.03</td>\n",
              "      <td>-0.32</td>\n",
              "      <td>-1.23</td>\n",
              "      <td>-0.50</td>\n",
              "      <td>0.11</td>\n",
              "      <td>0.87</td>\n",
              "      <td>...</td>\n",
              "      <td>0.43</td>\n",
              "      <td>-0.30</td>\n",
              "      <td>-0.07</td>\n",
              "      <td>-0.99</td>\n",
              "      <td>-0.75</td>\n",
              "      <td>1.11</td>\n",
              "      <td>1.35</td>\n",
              "      <td>-1.63</td>\n",
              "      <td>0.10</td>\n",
              "      <td>0</td>\n",
              "    </tr>\n",
              "    <tr>\n",
              "      <th>4</th>\n",
              "      <td>-0.81</td>\n",
              "      <td>1.59</td>\n",
              "      <td>-0.69</td>\n",
              "      <td>1.16</td>\n",
              "      <td>4.22</td>\n",
              "      <td>4.98</td>\n",
              "      <td>4.52</td>\n",
              "      <td>2.54</td>\n",
              "      <td>5.60</td>\n",
              "      <td>4.66</td>\n",
              "      <td>...</td>\n",
              "      <td>0.62</td>\n",
              "      <td>0.14</td>\n",
              "      <td>1.33</td>\n",
              "      <td>-1.87</td>\n",
              "      <td>1.48</td>\n",
              "      <td>-0.02</td>\n",
              "      <td>-0.58</td>\n",
              "      <td>0.93</td>\n",
              "      <td>0.40</td>\n",
              "      <td>1</td>\n",
              "    </tr>\n",
              "    <tr>\n",
              "      <th>...</th>\n",
              "      <td>...</td>\n",
              "      <td>...</td>\n",
              "      <td>...</td>\n",
              "      <td>...</td>\n",
              "      <td>...</td>\n",
              "      <td>...</td>\n",
              "      <td>...</td>\n",
              "      <td>...</td>\n",
              "      <td>...</td>\n",
              "      <td>...</td>\n",
              "      <td>...</td>\n",
              "      <td>...</td>\n",
              "      <td>...</td>\n",
              "      <td>...</td>\n",
              "      <td>...</td>\n",
              "      <td>...</td>\n",
              "      <td>...</td>\n",
              "      <td>...</td>\n",
              "      <td>...</td>\n",
              "      <td>...</td>\n",
              "      <td>...</td>\n",
              "    </tr>\n",
              "    <tr>\n",
              "      <th>4995</th>\n",
              "      <td>0.44</td>\n",
              "      <td>0.56</td>\n",
              "      <td>1.84</td>\n",
              "      <td>1.94</td>\n",
              "      <td>3.43</td>\n",
              "      <td>4.88</td>\n",
              "      <td>4.04</td>\n",
              "      <td>2.11</td>\n",
              "      <td>1.83</td>\n",
              "      <td>0.78</td>\n",
              "      <td>...</td>\n",
              "      <td>-2.56</td>\n",
              "      <td>-0.68</td>\n",
              "      <td>0.97</td>\n",
              "      <td>-0.78</td>\n",
              "      <td>-1.14</td>\n",
              "      <td>0.45</td>\n",
              "      <td>0.18</td>\n",
              "      <td>1.44</td>\n",
              "      <td>1.11</td>\n",
              "      <td>0</td>\n",
              "    </tr>\n",
              "    <tr>\n",
              "      <th>4996</th>\n",
              "      <td>1.18</td>\n",
              "      <td>-0.48</td>\n",
              "      <td>1.81</td>\n",
              "      <td>1.51</td>\n",
              "      <td>1.41</td>\n",
              "      <td>3.61</td>\n",
              "      <td>3.75</td>\n",
              "      <td>3.80</td>\n",
              "      <td>3.44</td>\n",
              "      <td>3.71</td>\n",
              "      <td>...</td>\n",
              "      <td>0.37</td>\n",
              "      <td>-1.96</td>\n",
              "      <td>-1.19</td>\n",
              "      <td>-1.08</td>\n",
              "      <td>1.37</td>\n",
              "      <td>-1.02</td>\n",
              "      <td>0.71</td>\n",
              "      <td>-0.10</td>\n",
              "      <td>0.36</td>\n",
              "      <td>1</td>\n",
              "    </tr>\n",
              "    <tr>\n",
              "      <th>4997</th>\n",
              "      <td>0.64</td>\n",
              "      <td>0.81</td>\n",
              "      <td>-0.38</td>\n",
              "      <td>-0.88</td>\n",
              "      <td>1.55</td>\n",
              "      <td>0.10</td>\n",
              "      <td>0.42</td>\n",
              "      <td>-0.93</td>\n",
              "      <td>-0.70</td>\n",
              "      <td>1.54</td>\n",
              "      <td>...</td>\n",
              "      <td>1.61</td>\n",
              "      <td>-0.81</td>\n",
              "      <td>-1.35</td>\n",
              "      <td>-0.84</td>\n",
              "      <td>-0.64</td>\n",
              "      <td>1.19</td>\n",
              "      <td>-0.38</td>\n",
              "      <td>-0.70</td>\n",
              "      <td>-0.85</td>\n",
              "      <td>2</td>\n",
              "    </tr>\n",
              "    <tr>\n",
              "      <th>4998</th>\n",
              "      <td>0.18</td>\n",
              "      <td>1.65</td>\n",
              "      <td>1.91</td>\n",
              "      <td>2.07</td>\n",
              "      <td>4.28</td>\n",
              "      <td>3.61</td>\n",
              "      <td>4.46</td>\n",
              "      <td>4.62</td>\n",
              "      <td>4.80</td>\n",
              "      <td>0.25</td>\n",
              "      <td>...</td>\n",
              "      <td>-0.65</td>\n",
              "      <td>-0.73</td>\n",
              "      <td>0.89</td>\n",
              "      <td>-0.97</td>\n",
              "      <td>-1.30</td>\n",
              "      <td>-0.20</td>\n",
              "      <td>-0.63</td>\n",
              "      <td>-0.92</td>\n",
              "      <td>0.63</td>\n",
              "      <td>0</td>\n",
              "    </tr>\n",
              "    <tr>\n",
              "      <th>4999</th>\n",
              "      <td>2.05</td>\n",
              "      <td>-1.99</td>\n",
              "      <td>1.66</td>\n",
              "      <td>2.18</td>\n",
              "      <td>2.22</td>\n",
              "      <td>2.53</td>\n",
              "      <td>3.09</td>\n",
              "      <td>2.20</td>\n",
              "      <td>1.42</td>\n",
              "      <td>0.62</td>\n",
              "      <td>...</td>\n",
              "      <td>0.28</td>\n",
              "      <td>-0.77</td>\n",
              "      <td>1.39</td>\n",
              "      <td>0.51</td>\n",
              "      <td>0.24</td>\n",
              "      <td>-1.13</td>\n",
              "      <td>1.01</td>\n",
              "      <td>0.06</td>\n",
              "      <td>0.61</td>\n",
              "      <td>0</td>\n",
              "    </tr>\n",
              "  </tbody>\n",
              "</table>\n",
              "<p>5000 rows × 41 columns</p>\n",
              "</div>\n",
              "      <button class=\"colab-df-convert\" onclick=\"convertToInteractive('df-2e92bcc7-4365-4923-a757-f053df48bc7d')\"\n",
              "              title=\"Convert this dataframe to an interactive table.\"\n",
              "              style=\"display:none;\">\n",
              "        \n",
              "  <svg xmlns=\"http://www.w3.org/2000/svg\" height=\"24px\"viewBox=\"0 0 24 24\"\n",
              "       width=\"24px\">\n",
              "    <path d=\"M0 0h24v24H0V0z\" fill=\"none\"/>\n",
              "    <path d=\"M18.56 5.44l.94 2.06.94-2.06 2.06-.94-2.06-.94-.94-2.06-.94 2.06-2.06.94zm-11 1L8.5 8.5l.94-2.06 2.06-.94-2.06-.94L8.5 2.5l-.94 2.06-2.06.94zm10 10l.94 2.06.94-2.06 2.06-.94-2.06-.94-.94-2.06-.94 2.06-2.06.94z\"/><path d=\"M17.41 7.96l-1.37-1.37c-.4-.4-.92-.59-1.43-.59-.52 0-1.04.2-1.43.59L10.3 9.45l-7.72 7.72c-.78.78-.78 2.05 0 2.83L4 21.41c.39.39.9.59 1.41.59.51 0 1.02-.2 1.41-.59l7.78-7.78 2.81-2.81c.8-.78.8-2.07 0-2.86zM5.41 20L4 18.59l7.72-7.72 1.47 1.35L5.41 20z\"/>\n",
              "  </svg>\n",
              "      </button>\n",
              "      \n",
              "  <style>\n",
              "    .colab-df-container {\n",
              "      display:flex;\n",
              "      flex-wrap:wrap;\n",
              "      gap: 12px;\n",
              "    }\n",
              "\n",
              "    .colab-df-convert {\n",
              "      background-color: #E8F0FE;\n",
              "      border: none;\n",
              "      border-radius: 50%;\n",
              "      cursor: pointer;\n",
              "      display: none;\n",
              "      fill: #1967D2;\n",
              "      height: 32px;\n",
              "      padding: 0 0 0 0;\n",
              "      width: 32px;\n",
              "    }\n",
              "\n",
              "    .colab-df-convert:hover {\n",
              "      background-color: #E2EBFA;\n",
              "      box-shadow: 0px 1px 2px rgba(60, 64, 67, 0.3), 0px 1px 3px 1px rgba(60, 64, 67, 0.15);\n",
              "      fill: #174EA6;\n",
              "    }\n",
              "\n",
              "    [theme=dark] .colab-df-convert {\n",
              "      background-color: #3B4455;\n",
              "      fill: #D2E3FC;\n",
              "    }\n",
              "\n",
              "    [theme=dark] .colab-df-convert:hover {\n",
              "      background-color: #434B5C;\n",
              "      box-shadow: 0px 1px 3px 1px rgba(0, 0, 0, 0.15);\n",
              "      filter: drop-shadow(0px 1px 2px rgba(0, 0, 0, 0.3));\n",
              "      fill: #FFFFFF;\n",
              "    }\n",
              "  </style>\n",
              "\n",
              "      <script>\n",
              "        const buttonEl =\n",
              "          document.querySelector('#df-2e92bcc7-4365-4923-a757-f053df48bc7d button.colab-df-convert');\n",
              "        buttonEl.style.display =\n",
              "          google.colab.kernel.accessAllowed ? 'block' : 'none';\n",
              "\n",
              "        async function convertToInteractive(key) {\n",
              "          const element = document.querySelector('#df-2e92bcc7-4365-4923-a757-f053df48bc7d');\n",
              "          const dataTable =\n",
              "            await google.colab.kernel.invokeFunction('convertToInteractive',\n",
              "                                                     [key], {});\n",
              "          if (!dataTable) return;\n",
              "\n",
              "          const docLinkHtml = 'Like what you see? Visit the ' +\n",
              "            '<a target=\"_blank\" href=https://colab.research.google.com/notebooks/data_table.ipynb>data table notebook</a>'\n",
              "            + ' to learn more about interactive tables.';\n",
              "          element.innerHTML = '';\n",
              "          dataTable['output_type'] = 'display_data';\n",
              "          await google.colab.output.renderOutput(dataTable, element);\n",
              "          const docLink = document.createElement('div');\n",
              "          docLink.innerHTML = docLinkHtml;\n",
              "          element.appendChild(docLink);\n",
              "        }\n",
              "      </script>\n",
              "    </div>\n",
              "  </div>\n",
              "  "
            ]
          },
          "metadata": {}
        },
        {
          "output_type": "stream",
          "name": "stdout",
          "text": [
            "        0     1     2     3     4     5     6     7     8     9   ...    30  \\\n",
            "0    -0.23 -1.21  1.20  1.23 -0.10  0.12  2.49  1.19  1.34  0.58  ... -0.63   \n",
            "1     0.38  0.38 -0.31 -0.09  1.52  1.35  1.49  3.81  2.33  1.34  ...  0.31   \n",
            "2    -0.69  1.00  1.08  1.48  2.44  3.39  3.09  4.08  5.48  3.61  ...  0.93   \n",
            "3     0.40  0.68  0.27  1.39  1.03 -0.32 -1.23 -0.50  0.11  0.87  ...  1.18   \n",
            "4    -0.81  1.59 -0.69  1.16  4.22  4.98  4.52  2.54  5.60  4.66  ... -0.07   \n",
            "...    ...   ...   ...   ...   ...   ...   ...   ...   ...   ...  ...   ...   \n",
            "4995  0.44  0.56  1.84  1.94  3.43  4.88  4.04  2.11  1.83  0.78  ...  0.52   \n",
            "4996  1.18 -0.48  1.81  1.51  1.41  3.61  3.75  3.80  3.44  3.71  ... -0.41   \n",
            "4997  0.64  0.81 -0.38 -0.88  1.55  0.10  0.42 -0.93 -0.70  1.54  ...  0.49   \n",
            "4998  0.18  1.65  1.91  2.07  4.28  3.61  4.46  4.62  4.80  0.25  ...  0.17   \n",
            "4999  2.05 -1.99  1.66  2.18  2.22  2.53  3.09  2.20  1.42  0.62  ...  0.21   \n",
            "\n",
            "        31    32    33    34    35    36    37    38    39  \n",
            "0    -0.86 -0.70  0.51  0.34 -0.13 -0.87  0.56 -0.53  0.29  \n",
            "1     1.28  1.40  0.00 -0.18  0.71  0.04  0.91 -0.79  0.22  \n",
            "2     0.29  1.12  0.60  0.28  2.17  0.18 -0.09 -1.33  1.00  \n",
            "3     0.43 -0.30 -0.07 -0.99 -0.75  1.11  1.35 -1.63  0.10  \n",
            "4     0.62  0.14  1.33 -1.87  1.48 -0.02 -0.58  0.93  0.40  \n",
            "...    ...   ...   ...   ...   ...   ...   ...   ...   ...  \n",
            "4995 -2.56 -0.68  0.97 -0.78 -1.14  0.45  0.18  1.44  1.11  \n",
            "4996  0.37 -1.96 -1.19 -1.08  1.37 -1.02  0.71 -0.10  0.36  \n",
            "4997  1.61 -0.81 -1.35 -0.84 -0.64  1.19 -0.38 -0.70 -0.85  \n",
            "4998 -0.65 -0.73  0.89 -0.97 -1.30 -0.20 -0.63 -0.92  0.63  \n",
            "4999  0.28 -0.77  1.39  0.51  0.24 -1.13  1.01  0.06  0.61  \n",
            "\n",
            "[5000 rows x 40 columns]\n",
            "      40\n",
            "0      2\n",
            "1      0\n",
            "2      1\n",
            "3      0\n",
            "4      1\n",
            "...   ..\n",
            "4995   0\n",
            "4996   1\n",
            "4997   2\n",
            "4998   0\n",
            "4999   0\n",
            "\n",
            "[5000 rows x 1 columns]\n"
          ]
        }
      ]
    },
    {
      "cell_type": "markdown",
      "source": [
        "# I. Découpage de la base"
      ],
      "metadata": {
        "id": "DmiYuLLf9J9y"
      }
    },
    {
      "cell_type": "code",
      "source": [
        "X_train, X_test, y_train, y_test = train_test_split(X, y, test_size=0.5, random_state=42)"
      ],
      "metadata": {
        "id": "c8XQO5JN9KGY"
      },
      "execution_count": 3,
      "outputs": []
    },
    {
      "cell_type": "markdown",
      "source": [
        "# II. Simulation de l'aspect semi-supervisé"
      ],
      "metadata": {
        "id": "xX-8G86093Kb"
      }
    },
    {
      "cell_type": "code",
      "source": [
        "X_train1, X_train2, y_train1, y_train2 = train_test_split(X_train, y_train, test_size=0.5, random_state=42)"
      ],
      "metadata": {
        "id": "A2W6R0lm97Zo"
      },
      "execution_count": 4,
      "outputs": []
    },
    {
      "cell_type": "markdown",
      "source": [
        "# III. Sélection de variables semi-supervisée"
      ],
      "metadata": {
        "id": "MHovn9Wh-_O4"
      }
    },
    {
      "cell_type": "code",
      "source": [
        "class SemiSupervisedDatabase():\n",
        "\n",
        "  def __init__(self, X, y, labelised_rate=0.5, training_ratio=0.5):\n",
        "    self.X = X\n",
        "    self.y = y\n",
        "    self.X_train, self.X_test, self.y_train, self.y_test = train_test_split(X, y, test_size=training_ratio, random_state=42)\n",
        "    self.update_labelised_rate(labelised_rate)\n",
        "    \n",
        "    self.classes = np.unique(y)\n",
        "\n",
        "    # 2D array to store infos about classes\n",
        "    # Used to store the number of iterations for each class\n",
        "    self.classes_infos = []\n",
        "    # Computation of the iterations for each class\n",
        "    for c in self.classes:\n",
        "      nb = 0\n",
        "      for i in range(len(self.X_train)):\n",
        "        if self.y_train.values[i][0] == c:\n",
        "          nb += 1\n",
        "      self.classes_infos.append([nb])\n",
        "    \n",
        "  def update_labelised_rate(self, new_labelised_rate):\n",
        "\n",
        "    self.X_train1, self.X_train2, self.y_train1, self.y_train2 = train_test_split(X_train, y_train, test_size=1-new_labelised_rate, random_state=42)\n",
        "\n",
        "    # Optimized matrix computation and storage of each element's distance \n",
        "    self.X_train2_array = self.X_train2.values\n",
        "    distances = pdist(self.X_train2_array)\n",
        "    self.distance_matrix = squareform(distances)\n",
        "    # Optimized Sij computation for Laplacian score\n",
        "    self.Sij_all = self.Sij_all_compute()\n",
        "\n",
        "  def Sij_all_compute(self, t=10):\n",
        "    return np.exp(-(self.distance_matrix ** 2) / t)\n",
        "\n",
        "  def S1(self, v):\n",
        "    \"\"\"\n",
        "    S1(v) Fisher's score computed on the part of labalised data\n",
        "    (Non-Optimized)\n",
        "    \"\"\"\n",
        "    numerator = 0\n",
        "    denominator = 0\n",
        "    for c in range(len(self.classes)):\n",
        "      numerator += self.classes_infos[c][0] * pow(self.mean_var(v, c) - self.mean_var(v), 2)\n",
        "      denominator += self.classes_infos[c][0] * self.ecart_var(v, c)\n",
        "\n",
        "    return numerator / denominator\n",
        "\n",
        "  def S2(self, v):\n",
        "    \"\"\"\n",
        "    S2(v) Laplacian score computed on the part of non-labalised data\n",
        "    \"\"\"\n",
        "    numerator = 0\n",
        "    numerator += np.sum(np.subtract.outer(self.X_train2.values[:, v], self.X_train2.values[:, v]) ** 2 * self.Sij_all)\n",
        "\n",
        "    return numerator / np.var(self.get_var_by_class(v))\n",
        "\n",
        "  def score(self, v):\n",
        "    return self.S1(v) / self.S2(v)\n",
        "\n",
        "  def score_all(self, debug=False):\n",
        "    print(\"Score All\")\n",
        "    scores = []\n",
        "    for v in range(np.shape(self.X)[1]):\n",
        "      score = self.score(v)\n",
        "      scores.append(score)\n",
        "      if debug:\n",
        "        print(f\"Variable {v}, score : {score}\")\n",
        "    return scores\n",
        "\n",
        "  def get_var_by_class(self, v, c=None):\n",
        "    \"\"\"\n",
        "    Get all the values of variable 'v' for the class 'c'\n",
        "    \"\"\"\n",
        "    var = []\n",
        "    for i in range(len(self.X_train1)):\n",
        "      if c is not None:\n",
        "        if self.y_train1.values[i][0] == c:\n",
        "          var.append(self.X_train1.values[i][v])\n",
        "      else:\n",
        "        var.append(self.X_train1.values[i][v])\n",
        "    return var\n",
        "\n",
        "  def mean_var(self, v, c=None):\n",
        "    \"\"\"\n",
        "    Mean of the variable 'v' about the class 'c'\n",
        "    \"\"\"\n",
        "    mean = 0\n",
        "    nb = 0\n",
        "    \n",
        "    for i in range(len(self.X_train1)):\n",
        "      if c is not None:\n",
        "        if c == self.y_train1.values[i][0]:\n",
        "          mean += self.X_train1.values[i][v]\n",
        "          nb += 1\n",
        "      else:\n",
        "        mean += self.X_train1.values[i][v]\n",
        "        nb += 1\n",
        "\n",
        "    mean = mean / nb\n",
        "\n",
        "    return mean\n",
        "\n",
        "  def ecart_var(self, v, c):\n",
        "    \"\"\"\n",
        "    Standard-deviation of the variable 'v' about the class 'c'\n",
        "    \"\"\"\n",
        "    return np.var(self.get_var_by_class(v, c))\n",
        "    "
      ],
      "metadata": {
        "id": "aZ2MbdYf_FVM"
      },
      "execution_count": 21,
      "outputs": []
    },
    {
      "cell_type": "markdown",
      "source": [
        "## Scores evaluations"
      ],
      "metadata": {
        "id": "arxwlSR2XxBT"
      }
    },
    {
      "cell_type": "code",
      "source": [
        "semi_FS = SemiSupervisedDatabase(X, y)\n",
        "\n",
        "start_time = time.time()\n",
        "print(semi_FS.S2(0))\n",
        "print(\"S2 => {0:.2f} seconds\".format(time.time() - start_time))\n",
        "\n",
        "# Evaluation of the Fisher's score\n",
        "all_S1 = []\n",
        "for i in range(40):\n",
        "  all_S1.append(semi_FS.S1(i))\n",
        "\n",
        "plt.bar(range(0, 40), all_S1)\n",
        "plt.show()\n",
        "\n",
        "# Evaluation of the Laplacian's score\n",
        "all_S2 = []\n",
        "for i in range(40):\n",
        "  all_S2.append(semi_FS.S2(i))\n",
        "\n",
        "plt.bar(range(0, 40), all_S2)\n",
        "plt.show()"
      ],
      "metadata": {
        "colab": {
          "base_uri": "https://localhost:8080/",
          "height": 602
        },
        "id": "S5PBwpIBlEyx",
        "outputId": "263745bc-3379-4acc-ed1d-b719ee6a4e17"
      },
      "execution_count": 22,
      "outputs": [
        {
          "output_type": "stream",
          "name": "stdout",
          "text": [
            "[0 1 2]\n",
            "[[859], [831], [810]]\n",
            "40\n",
            "615.97458822979\n",
            "S2 => 0.02 seconds\n"
          ]
        },
        {
          "output_type": "display_data",
          "data": {
            "text/plain": [
              "<Figure size 432x288 with 1 Axes>"
            ],
            "image/png": "[encoded data removed]"
          },
          "metadata": {
            "needs_background": "light"
          }
        },
        {
          "output_type": "display_data",
          "data": {
            "text/plain": [
              "<Figure size 432x288 with 1 Axes>"
            ],
            "image/png": "[encoded data removed]"
          },
          "metadata": {
            "needs_background": "light"
          }
        }
      ]
    },
    {
      "cell_type": "code",
      "source": [
        "all_scores = semi_FS.score_all(debug=True)"
      ],
      "metadata": {
        "colab": {
          "base_uri": "https://localhost:8080/"
        },
        "id": "Szpi7YgUDDWf",
        "outputId": "a8447e31-40a5-4ad9-9704-10c88ac4561c"
      },
      "execution_count": 23,
      "outputs": [
        {
          "output_type": "stream",
          "name": "stdout",
          "text": [
            "Score All\n",
            "Variable 0, score : 8.888327613395249e-07\n",
            "Variable 1, score : 6.7547845199916e-05\n",
            "Variable 2, score : 0.0002951418805984407\n",
            "Variable 3, score : 0.0008513275377058372\n",
            "Variable 4, score : 0.0016064209873362652\n",
            "Variable 5, score : 0.0025620939369769566\n",
            "Variable 6, score : 0.003509172229884512\n",
            "Variable 7, score : 0.0024317738348345183\n",
            "Variable 8, score : 0.0018843618657141457\n",
            "Variable 9, score : 0.0014942247493921145\n",
            "Variable 10, score : 0.0016196308176109138\n",
            "Variable 11, score : 0.0013388375064758058\n",
            "Variable 12, score : 0.0017494044178436984\n",
            "Variable 13, score : 0.001911655752076401\n",
            "Variable 14, score : 0.0032104619550717894\n",
            "Variable 15, score : 0.0025211855868480255\n",
            "Variable 16, score : 0.0022633248392475076\n",
            "Variable 17, score : 0.0011022097390104117\n",
            "Variable 18, score : 0.00034530965570384785\n",
            "Variable 19, score : 0.00013113522294882555\n",
            "Variable 20, score : 1.900046199427472e-06\n",
            "Variable 21, score : 4.340704441886989e-06\n",
            "Variable 22, score : 2.4682479343015145e-06\n",
            "Variable 23, score : 4.981620340875338e-06\n",
            "Variable 24, score : 9.796436949833316e-07\n",
            "Variable 25, score : 1.9254405728559213e-06\n",
            "Variable 26, score : 1.0084579220595284e-06\n",
            "Variable 27, score : 4.0151755441991e-06\n",
            "Variable 28, score : 9.965424511664862e-06\n",
            "Variable 29, score : 3.998338507967105e-08\n",
            "Variable 30, score : 2.8412397541259377e-06\n",
            "Variable 31, score : 9.349990067995869e-07\n",
            "Variable 32, score : 2.656675425388782e-07\n",
            "Variable 33, score : 2.310795564716611e-06\n",
            "Variable 34, score : 2.740124610335744e-06\n",
            "Variable 35, score : 5.094260224004499e-06\n",
            "Variable 36, score : 2.8094970018532434e-06\n",
            "Variable 37, score : 8.473626832948741e-07\n",
            "Variable 38, score : 1.6303621836485291e-06\n",
            "Variable 39, score : 1.6439593884285676e-07\n"
          ]
        }
      ]
    },
    {
      "cell_type": "markdown",
      "source": [
        "# IV. Evaluation de la sélection"
      ],
      "metadata": {
        "id": "gNu-pwzF_Ixv"
      }
    },
    {
      "cell_type": "markdown",
      "source": [
        "## Tracer l’histogramme des pertinences de toutes les variables selon leurs scores"
      ],
      "metadata": {
        "id": "Xz2RAWTEguwK"
      }
    },
    {
      "cell_type": "code",
      "source": [
        "all_scores_sorted = all_scores.copy()\n",
        "all_scores_sorted.sort(reverse=True)\n",
        "\n",
        "plt.bar(range(len(all_scores)), all_scores)\n",
        "plt.show()\n",
        "\n",
        "sorted_indices = np.array(all_scores).argsort()[::-1]"
      ],
      "metadata": {
        "colab": {
          "base_uri": "https://localhost:8080/",
          "height": 265
        },
        "id": "yJ3f5Jn__NIj",
        "outputId": "faf9e300-aad9-42a5-efa5-726d3ad62942"
      },
      "execution_count": 8,
      "outputs": [
        {
          "output_type": "display_data",
          "data": {
            "text/plain": [
              "<Figure size 432x288 with 1 Axes>"
            ],
            "image/png": "[encoded data removed]"
          },
          "metadata": {
            "needs_background": "light"
          }
        }
      ]
    },
    {
      "cell_type": "markdown",
      "source": [
        "## Tracer une courbe d’efficacité (selon les performances d’un perceptron multi couches (MLP) appris sur A) sur la base T, en fonction du nombre de variables pertinentes sélectionnées (par tranche de 5 variables)"
      ],
      "metadata": {
        "id": "EALrmZIcgy1D"
      }
    },
    {
      "cell_type": "code",
      "source": [
        "from sklearn.metrics import accuracy_score\n",
        "from sklearn.neural_network import MLPClassifier\n",
        "\n",
        "def MLP_efficiency_curve(indices, X, step=5):\n",
        "  current_step = step\n",
        "  scores = []\n",
        "  for i in range(int(len(all_scores_sorted) / 5)):\n",
        "    print(f\"Best {current_step} variables :\")\n",
        "    best_vars = indices[:current_step]\n",
        "\n",
        "    print(best_vars)\n",
        "    # Variable choice\n",
        "    X_best_train = X.iloc[:, best_vars]\n",
        "    # Model Training\n",
        "    model = MLPClassifier(alpha=0.01)\n",
        "    model.fit(X_best_train, y_train)\n",
        "    predict = model.predict(X_test.iloc[:, best_vars])\n",
        "\n",
        "    # Accuracy score\n",
        "    current_score = accuracy_score(y_test, predict)\n",
        "    scores.append(current_score)\n",
        "\n",
        "    print(f\"Score : {current_score}\")\n",
        "\n",
        "    current_step += step\n",
        "\n",
        "  print(scores)\n",
        "  plt.plot(range(step, len(all_scores_sorted)+1, step), scores)\n",
        "\n",
        "MLP_efficiency_curve(sorted_indices, X_train)"
      ],
      "metadata": {
        "id": "C0qW7XLPg4aB",
        "colab": {
          "base_uri": "https://localhost:8080/",
          "height": 783
        },
        "outputId": "0af09754-7e5a-431c-bdc9-a82af149295f"
      },
      "execution_count": 9,
      "outputs": [
        {
          "output_type": "stream",
          "name": "stdout",
          "text": [
            "Best 5 variables :\n",
            "[ 6 14  5 15  7]\n",
            "Score : 0.7304\n",
            "Best 10 variables :\n",
            "[ 6 14  5 15  7 16 13  8 12 10]\n",
            "Score : 0.8404\n",
            "Best 15 variables :\n",
            "[ 6 14  5 15  7 16 13  8 12 10  4  9 11 17  3]\n",
            "Score : 0.8608\n",
            "Best 20 variables :\n",
            "[ 6 14  5 15  7 16 13  8 12 10  4  9 11 17  3 18  2 19  1 28]\n",
            "Score : 0.86\n",
            "Best 25 variables :\n",
            "[ 6 14  5 15  7 16 13  8 12 10  4  9 11 17  3 18  2 19  1 28 35 23 21 27\n",
            " 30]\n",
            "Score : 0.8432\n",
            "Best 30 variables :\n",
            "[ 6 14  5 15  7 16 13  8 12 10  4  9 11 17  3 18  2 19  1 28 35 23 21 27\n",
            " 30 36 34 22 33 25]\n",
            "Score : 0.838\n",
            "Best 35 variables :\n",
            "[ 6 14  5 15  7 16 13  8 12 10  4  9 11 17  3 18  2 19  1 28 35 23 21 27\n",
            " 30 36 34 22 33 25 20 38 26 24 31]\n",
            "Score : 0.8436\n",
            "Best 40 variables :\n",
            "[ 6 14  5 15  7 16 13  8 12 10  4  9 11 17  3 18  2 19  1 28 35 23 21 27\n",
            " 30 36 34 22 33 25 20 38 26 24 31  0 37 32 39 29]\n",
            "Score : 0.8312\n",
            "[0.7304, 0.8404, 0.8608, 0.86, 0.8432, 0.838, 0.8436, 0.8312]\n"
          ]
        },
        {
          "output_type": "display_data",
          "data": {
            "text/plain": [
              "<Figure size 432x288 with 1 Axes>"
            ],
            "image/png": "[encoded data removed]"
          },
          "metadata": {
            "needs_background": "light"
          }
        }
      ]
    },
    {
      "cell_type": "markdown",
      "source": [
        "## Tracer cette même courbe avec les données non-normalisées"
      ],
      "metadata": {
        "id": "M1HH3GH9g5Nk"
      }
    },
    {
      "cell_type": "code",
      "source": [
        "MLP_efficiency_curve(range(0, 40), X_train)"
      ],
      "metadata": {
        "id": "ERQ-mjHZg7YT",
        "colab": {
          "base_uri": "https://localhost:8080/",
          "height": 712
        },
        "outputId": "df4eaea2-2ad3-4f0f-9395-284012c7be90"
      },
      "execution_count": 10,
      "outputs": [
        {
          "output_type": "stream",
          "name": "stdout",
          "text": [
            "Best 5 variables :\n",
            "range(0, 5)\n",
            "Score : 0.568\n",
            "Best 10 variables :\n",
            "range(0, 10)\n",
            "Score : 0.7868\n",
            "Best 15 variables :\n",
            "range(0, 15)\n",
            "Score : 0.8444\n",
            "Best 20 variables :\n",
            "range(0, 20)\n",
            "Score : 0.8544\n",
            "Best 25 variables :\n",
            "range(0, 25)\n",
            "Score : 0.8484\n",
            "Best 30 variables :\n",
            "range(0, 30)\n",
            "Score : 0.8376\n",
            "Best 35 variables :\n",
            "range(0, 35)\n",
            "Score : 0.8324\n",
            "Best 40 variables :\n",
            "range(0, 40)\n",
            "Score : 0.8388\n",
            "[0.568, 0.7868, 0.8444, 0.8544, 0.8484, 0.8376, 0.8324, 0.8388]\n"
          ]
        },
        {
          "output_type": "display_data",
          "data": {
            "text/plain": [
              "<Figure size 432x288 with 1 Axes>"
            ],
            "image/png": "[encoded data removed]"
          },
          "metadata": {
            "needs_background": "light"
          }
        }
      ]
    },
    {
      "cell_type": "markdown",
      "source": [
        "## Tracer la courbe sur les variables non-pertinentes"
      ],
      "metadata": {
        "id": "EV71bjLDg8kk"
      }
    },
    {
      "cell_type": "code",
      "source": [
        "MLP_efficiency_curve(np.flip(sorted_indices.copy()), X_train)"
      ],
      "metadata": {
        "id": "K2b3fwmmg-ON",
        "colab": {
          "base_uri": "https://localhost:8080/",
          "height": 783
        },
        "outputId": "6de45837-6703-4bb4-a775-a7a92f69fd6a"
      },
      "execution_count": 11,
      "outputs": [
        {
          "output_type": "stream",
          "name": "stdout",
          "text": [
            "Best 5 variables :\n",
            "[29 39 32 37  0]\n",
            "Score : 0.3512\n",
            "Best 10 variables :\n",
            "[29 39 32 37  0 31 24 26 38 20]\n",
            "Score : 0.3288\n",
            "Best 15 variables :\n",
            "[29 39 32 37  0 31 24 26 38 20 25 33 22 34 36]\n",
            "Score : 0.338\n",
            "Best 20 variables :\n",
            "[29 39 32 37  0 31 24 26 38 20 25 33 22 34 36 30 27 21 23 35]\n",
            "Score : 0.308\n",
            "Best 25 variables :\n",
            "[29 39 32 37  0 31 24 26 38 20 25 33 22 34 36 30 27 21 23 35 28  1 19  2\n",
            " 18]\n",
            "Score : 0.466\n",
            "Best 30 variables :\n",
            "[29 39 32 37  0 31 24 26 38 20 25 33 22 34 36 30 27 21 23 35 28  1 19  2\n",
            " 18  3 17 11  9  4]\n",
            "Score : 0.6652\n",
            "Best 35 variables :\n",
            "[29 39 32 37  0 31 24 26 38 20 25 33 22 34 36 30 27 21 23 35 28  1 19  2\n",
            " 18  3 17 11  9  4 10 12  8 13 16]\n",
            "Score : 0.7816\n",
            "Best 40 variables :\n",
            "[29 39 32 37  0 31 24 26 38 20 25 33 22 34 36 30 27 21 23 35 28  1 19  2\n",
            " 18  3 17 11  9  4 10 12  8 13 16  7 15  5 14  6]\n",
            "Score : 0.8156\n",
            "[0.3512, 0.3288, 0.338, 0.308, 0.466, 0.6652, 0.7816, 0.8156]\n"
          ]
        },
        {
          "output_type": "display_data",
          "data": {
            "text/plain": [
              "<Figure size 432x288 with 1 Axes>"
            ],
            "image/png": "[encoded data removed]"
          },
          "metadata": {
            "needs_background": "light"
          }
        }
      ]
    },
    {
      "cell_type": "markdown",
      "source": [
        "## Tracer la courbe sans sélection de variables"
      ],
      "metadata": {
        "id": "8jP-zWDUg_uw"
      }
    },
    {
      "cell_type": "code",
      "source": [
        "shuffle_indices = sorted_indices.copy()\n",
        "np.random.shuffle(shuffle_indices)\n",
        "MLP_efficiency_curve(shuffle_indices, X_train)"
      ],
      "metadata": {
        "id": "NJJNdRxuhAi_",
        "colab": {
          "base_uri": "https://localhost:8080/",
          "height": 783
        },
        "outputId": "45a7d4f8-324e-48e1-f972-b2f304cadc3c"
      },
      "execution_count": 12,
      "outputs": [
        {
          "output_type": "stream",
          "name": "stdout",
          "text": [
            "Best 5 variables :\n",
            "[30 28 29 26  1]\n",
            "Score : 0.3964\n",
            "Best 10 variables :\n",
            "[30 28 29 26  1 39 37 33  9 23]\n",
            "Score : 0.5128\n",
            "Best 15 variables :\n",
            "[30 28 29 26  1 39 37 33  9 23 12 17 35  0  4]\n",
            "Score : 0.6924\n",
            "Best 20 variables :\n",
            "[30 28 29 26  1 39 37 33  9 23 12 17 35  0  4 13 10 36 18 21]\n",
            "Score : 0.7412\n",
            "Best 25 variables :\n",
            "[30 28 29 26  1 39 37 33  9 23 12 17 35  0  4 13 10 36 18 21 38 11 14  5\n",
            "  3]\n",
            "Score : 0.7832\n",
            "Best 30 variables :\n",
            "[30 28 29 26  1 39 37 33  9 23 12 17 35  0  4 13 10 36 18 21 38 11 14  5\n",
            "  3 16 31 34  6 32]\n",
            "Score : 0.8192\n",
            "Best 35 variables :\n",
            "[30 28 29 26  1 39 37 33  9 23 12 17 35  0  4 13 10 36 18 21 38 11 14  5\n",
            "  3 16 31 34  6 32 25 24  7 22 20]\n",
            "Score : 0.8116\n",
            "Best 40 variables :\n",
            "[30 28 29 26  1 39 37 33  9 23 12 17 35  0  4 13 10 36 18 21 38 11 14  5\n",
            "  3 16 31 34  6 32 25 24  7 22 20 15 27  2  8 19]\n",
            "Score : 0.8364\n",
            "[0.3964, 0.5128, 0.6924, 0.7412, 0.7832, 0.8192, 0.8116, 0.8364]\n"
          ]
        },
        {
          "output_type": "display_data",
          "data": {
            "text/plain": [
              "<Figure size 432x288 with 1 Axes>"
            ],
            "image/png": "[encoded data removed]"
          },
          "metadata": {
            "needs_background": "light"
          }
        }
      ]
    },
    {
      "cell_type": "markdown",
      "source": [
        "## En fixant le nombre de variables sélectionnées à 20, tracer la courbe de performance en fonction du % de données labélisées"
      ],
      "metadata": {
        "id": "qRXwzNO5hCMz"
      }
    },
    {
      "cell_type": "code",
      "source": [
        "step = 10\n",
        "current_step = step\n",
        "scores = []\n",
        "\n",
        "for i in range(9):\n",
        "  \n",
        "  print(f\"{current_step}% of labelised variables :\")\n",
        "\n",
        "  semi_FS.update_labelised_rate(current_step/100)\n",
        "\n",
        "  current_scores = semi_FS.score_all()\n",
        "  current_sorted_scores = current_scores.copy()\n",
        "  current_sorted_scores.sort(reverse=True)\n",
        "\n",
        "  best_indices = np.array(current_scores).argsort()[::-1]\n",
        "  best_indices = best_indices[:20]\n",
        "\n",
        "  # Model Training\n",
        "  X_best_train = semi_FS.X_train1.iloc[:, best_indices]\n",
        "  model = MLPClassifier(alpha=0.01)\n",
        "  model.fit(X_best_train, semi_FS.y_train1)\n",
        "  predict = model.predict(semi_FS.X_test.iloc[:, best_indices])\n",
        "\n",
        "  acc_score = accuracy_score(semi_FS.y_test, predict)\n",
        "  \n",
        "\n",
        "  print(f\"Score : {acc_score}\")\n",
        "\n",
        "  current_step += step\n",
        "  scores.append(acc_score)\n",
        "  \n",
        "print(scores)\n",
        "plt.plot(range(step, (len(scores)+1) * step, step), scores)"
      ],
      "metadata": {
        "id": "yczxxw6lhFAS",
        "colab": {
          "base_uri": "https://localhost:8080/",
          "height": 783
        },
        "outputId": "699c62fe-bdf0-41cd-c34d-911cc709a31e"
      },
      "execution_count": 20,
      "outputs": [
        {
          "output_type": "stream",
          "name": "stdout",
          "text": [
            "10% of labelised variables :\n",
            "Score All\n",
            "Score : 0.8476\n",
            "20% of labelised variables :\n",
            "Score All\n",
            "Score : 0.8564\n",
            "30% of labelised variables :\n",
            "Score All\n",
            "Score : 0.8544\n",
            "40% of labelised variables :\n",
            "Score All\n",
            "Score : 0.8616\n",
            "50% of labelised variables :\n",
            "Score All\n",
            "Score : 0.8604\n",
            "60% of labelised variables :\n",
            "Score All\n",
            "Score : 0.8672\n",
            "70% of labelised variables :\n",
            "Score All\n",
            "Score : 0.8584\n",
            "80% of labelised variables :\n",
            "Score All\n",
            "Score : 0.8536\n",
            "90% of labelised variables :\n",
            "Score All\n",
            "Score : 0.8556\n",
            "[0.8476, 0.8564, 0.8544, 0.8616, 0.8604, 0.8672, 0.8584, 0.8536, 0.8556]\n"
          ]
        },
        {
          "output_type": "execute_result",
          "data": {
            "text/plain": [
              "[<matplotlib.lines.Line2D at 0x7fb860c60040>]"
            ]
          },
          "metadata": {},
          "execution_count": 20
        },
        {
          "output_type": "display_data",
          "data": {
            "text/plain": [
              "<Figure size 432x288 with 1 Axes>"
            ],
            "image/png": "[encoded data removed]"
          },
          "metadata": {
            "needs_background": "light"
          }
        }
      ]
    }
  ]
}